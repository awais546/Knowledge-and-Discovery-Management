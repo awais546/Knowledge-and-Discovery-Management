{
  "nbformat": 4,
  "nbformat_minor": 0,
  "metadata": {
    "colab": {
      "name": "LSTM.ipynb",
      "provenance": [],
      "collapsed_sections": []
    },
    "kernelspec": {
      "name": "python3",
      "display_name": "Python 3"
    }
  },
  "cells": [
    {
      "cell_type": "code",
      "metadata": {
        "id": "USkk-8IR8t4G",
        "colab_type": "code",
        "colab": {}
      },
      "source": [
        "import pandas as pd\n",
        "import numpy as np\n",
        "import matplotlib.pyplot as plt\n",
        "import seaborn as sns\n",
        "from sklearn.model_selection import train_test_split\n",
        "from sklearn.preprocessing import LabelEncoder\n",
        "from keras.models import Model\n",
        "from keras.layers import LSTM, Activation, Dense, Dropout, Input, Embedding\n",
        "from keras.optimizers import RMSprop\n",
        "from keras.preprocessing.text import Tokenizer\n",
        "from keras.preprocessing import sequence\n",
        "from keras.utils import to_categorical\n",
        "from keras.callbacks import EarlyStopping\n",
        "%matplotlib inline"
      ],
      "execution_count": 0,
      "outputs": []
    },
    {
      "cell_type": "code",
      "metadata": {
        "id": "B8p8-HQq89vx",
        "colab_type": "code",
        "outputId": "ac60ba5d-0d06-4977-c82a-707739a93661",
        "colab": {
          "base_uri": "https://localhost:8080/",
          "height": 122
        }
      },
      "source": [
        "from google.colab import drive\n",
        "drive.mount('/content/drive')"
      ],
      "execution_count": 2,
      "outputs": [
        {
          "output_type": "stream",
          "text": [
            "Go to this URL in a browser: https://accounts.google.com/o/oauth2/auth?client_id=947318989803-6bn6qk8qdgf4n4g3pfee6491hc0brc4i.apps.googleusercontent.com&redirect_uri=urn%3aietf%3awg%3aoauth%3a2.0%3aoob&response_type=code&scope=email%20https%3a%2f%2fwww.googleapis.com%2fauth%2fdocs.test%20https%3a%2f%2fwww.googleapis.com%2fauth%2fdrive%20https%3a%2f%2fwww.googleapis.com%2fauth%2fdrive.photos.readonly%20https%3a%2f%2fwww.googleapis.com%2fauth%2fpeopleapi.readonly\n",
            "\n",
            "Enter your authorization code:\n",
            "··········\n",
            "Mounted at /content/drive\n"
          ],
          "name": "stdout"
        }
      ]
    },
    {
      "cell_type": "code",
      "metadata": {
        "id": "Cq_aMCwDVzIv",
        "colab_type": "code",
        "colab": {}
      },
      "source": [
        "def count_v1(temp_df):\n",
        "  print('Count of Ham: ',len(temp_df[temp_df['v1'] == 'ham']))\n",
        "  print('Count of Ham: ',len(temp_df[temp_df['v1'] == 'spam']))"
      ],
      "execution_count": 0,
      "outputs": []
    },
    {
      "cell_type": "code",
      "metadata": {
        "id": "POD7F1yS89uR",
        "colab_type": "code",
        "outputId": "69327cdf-ce45-4373-fbe2-cb2d137b5a1b",
        "colab": {
          "base_uri": "https://localhost:8080/",
          "height": 204
        }
      },
      "source": [
        "df = pd.read_csv('spam.csv',delimiter=',',encoding='latin-1')\n",
        "df.head()"
      ],
      "execution_count": 56,
      "outputs": [
        {
          "output_type": "execute_result",
          "data": {
            "text/html": [
              "<div>\n",
              "<style scoped>\n",
              "    .dataframe tbody tr th:only-of-type {\n",
              "        vertical-align: middle;\n",
              "    }\n",
              "\n",
              "    .dataframe tbody tr th {\n",
              "        vertical-align: top;\n",
              "    }\n",
              "\n",
              "    .dataframe thead th {\n",
              "        text-align: right;\n",
              "    }\n",
              "</style>\n",
              "<table border=\"1\" class=\"dataframe\">\n",
              "  <thead>\n",
              "    <tr style=\"text-align: right;\">\n",
              "      <th></th>\n",
              "      <th>v1</th>\n",
              "      <th>v2</th>\n",
              "      <th>Unnamed: 2</th>\n",
              "      <th>Unnamed: 3</th>\n",
              "      <th>Unnamed: 4</th>\n",
              "    </tr>\n",
              "  </thead>\n",
              "  <tbody>\n",
              "    <tr>\n",
              "      <th>0</th>\n",
              "      <td>ham</td>\n",
              "      <td>Go until jurong point, crazy.. Available only ...</td>\n",
              "      <td>NaN</td>\n",
              "      <td>NaN</td>\n",
              "      <td>NaN</td>\n",
              "    </tr>\n",
              "    <tr>\n",
              "      <th>1</th>\n",
              "      <td>ham</td>\n",
              "      <td>Ok lar... Joking wif u oni...</td>\n",
              "      <td>NaN</td>\n",
              "      <td>NaN</td>\n",
              "      <td>NaN</td>\n",
              "    </tr>\n",
              "    <tr>\n",
              "      <th>2</th>\n",
              "      <td>spam</td>\n",
              "      <td>Free entry in 2 a wkly comp to win FA Cup fina...</td>\n",
              "      <td>NaN</td>\n",
              "      <td>NaN</td>\n",
              "      <td>NaN</td>\n",
              "    </tr>\n",
              "    <tr>\n",
              "      <th>3</th>\n",
              "      <td>ham</td>\n",
              "      <td>U dun say so early hor... U c already then say...</td>\n",
              "      <td>NaN</td>\n",
              "      <td>NaN</td>\n",
              "      <td>NaN</td>\n",
              "    </tr>\n",
              "    <tr>\n",
              "      <th>4</th>\n",
              "      <td>ham</td>\n",
              "      <td>Nah I don't think he goes to usf, he lives aro...</td>\n",
              "      <td>NaN</td>\n",
              "      <td>NaN</td>\n",
              "      <td>NaN</td>\n",
              "    </tr>\n",
              "  </tbody>\n",
              "</table>\n",
              "</div>"
            ],
            "text/plain": [
              "     v1  ... Unnamed: 4\n",
              "0   ham  ...        NaN\n",
              "1   ham  ...        NaN\n",
              "2  spam  ...        NaN\n",
              "3   ham  ...        NaN\n",
              "4   ham  ...        NaN\n",
              "\n",
              "[5 rows x 5 columns]"
            ]
          },
          "metadata": {
            "tags": []
          },
          "execution_count": 56
        }
      ]
    },
    {
      "cell_type": "code",
      "metadata": {
        "id": "Vs-i1tc591Xr",
        "colab_type": "code",
        "outputId": "c441b08f-cad9-4ee7-8507-573d99c969bb",
        "colab": {
          "base_uri": "https://localhost:8080/",
          "height": 170
        }
      },
      "source": [
        "df.drop(['Unnamed: 2', 'Unnamed: 3', 'Unnamed: 4'],axis=1,inplace=True)\n",
        "df.info()"
      ],
      "execution_count": 57,
      "outputs": [
        {
          "output_type": "stream",
          "text": [
            "<class 'pandas.core.frame.DataFrame'>\n",
            "RangeIndex: 5572 entries, 0 to 5571\n",
            "Data columns (total 2 columns):\n",
            " #   Column  Non-Null Count  Dtype \n",
            "---  ------  --------------  ----- \n",
            " 0   v1      5572 non-null   object\n",
            " 1   v2      5572 non-null   object\n",
            "dtypes: object(2)\n",
            "memory usage: 87.2+ KB\n"
          ],
          "name": "stdout"
        }
      ]
    },
    {
      "cell_type": "code",
      "metadata": {
        "id": "hlmGGwH4-FUJ",
        "colab_type": "code",
        "outputId": "92bcc4cd-cef4-4855-d669-c38ff1142d52",
        "colab": {
          "base_uri": "https://localhost:8080/",
          "height": 346
        }
      },
      "source": [
        "count_v1(df)\n",
        "sns.countplot(df.v1)\n",
        "plt.xlabel('Label')\n",
        "plt.title('Number of ham and spam messages')"
      ],
      "execution_count": 75,
      "outputs": [
        {
          "output_type": "stream",
          "text": [
            "Count of Ham:  4825\n",
            "Count of Ham:  747\n"
          ],
          "name": "stdout"
        },
        {
          "output_type": "execute_result",
          "data": {
            "text/plain": [
              "Text(0.5, 1.0, 'Number of ham and spam messages')"
            ]
          },
          "metadata": {
            "tags": []
          },
          "execution_count": 75
        },
        {
          "output_type": "display_data",
          "data": {
            "image/png": "[encoded data removed]",
            "text/plain": [
              "<Figure size 432x288 with 1 Axes>"
            ]
          },
          "metadata": {
            "tags": [],
            "needs_background": "light"
          }
        }
      ]
    },
    {
      "cell_type": "code",
      "metadata": {
        "id": "0K1hrflCtK0j",
        "colab_type": "code",
        "colab": {
          "base_uri": "https://localhost:8080/",
          "height": 51
        },
        "outputId": "ec4ad2d3-70df-4c92-d43a-fad4c7fb0eab"
      },
      "source": [
        "df_ham = df[df['v1'] == 'ham']\n",
        "df_spam = df[df['v1'] == 'spam']\n",
        "print('Length of Ham:',len(df_ham))\n",
        "print('Length of Spam:',len(df_spam))"
      ],
      "execution_count": 76,
      "outputs": [
        {
          "output_type": "stream",
          "text": [
            "Length of Ham: 4825\n",
            "Length of Spam: 747\n"
          ],
          "name": "stdout"
        }
      ]
    },
    {
      "cell_type": "code",
      "metadata": {
        "id": "pP1HEVqDKWQ0",
        "colab_type": "code",
        "colab": {}
      },
      "source": [
        "#Random Oversampling\n",
        "import random\n",
        "oversample_li_index = [random.choice(df_spam.index) for i in range(len(df_spam))]\n",
        "oversample_df = df_spam[df_spam.index.isin(oversample_li_index)]\n",
        "oversample_df = df.append(oversample_df)"
      ],
      "execution_count": 0,
      "outputs": []
    },
    {
      "cell_type": "code",
      "metadata": {
        "id": "7cOXuAp5MD2h",
        "colab_type": "code",
        "colab": {
          "base_uri": "https://localhost:8080/",
          "height": 346
        },
        "outputId": "e0556148-f0f5-41e2-a04c-607637ce2524"
      },
      "source": [
        "count_v1(oversample_df)\n",
        "sns.countplot(oversample_df.v1)\n",
        "plt.xlabel('Label')\n",
        "plt.title('Number of ham and spam messages (oversampled)')"
      ],
      "execution_count": 78,
      "outputs": [
        {
          "output_type": "stream",
          "text": [
            "Count of Ham:  4825\n",
            "Count of Ham:  1225\n"
          ],
          "name": "stdout"
        },
        {
          "output_type": "execute_result",
          "data": {
            "text/plain": [
              "Text(0.5, 1.0, 'Number of ham and spam messages (oversampled)')"
            ]
          },
          "metadata": {
            "tags": []
          },
          "execution_count": 78
        },
        {
          "output_type": "display_data",
          "data": {
            "image/png": "[encoded data removed]",
            "text/plain": [
              "<Figure size 432x288 with 1 Axes>"
            ]
          },
          "metadata": {
            "tags": [],
            "needs_background": "light"
          }
        }
      ]
    },
    {
      "cell_type": "code",
      "metadata": {
        "id": "gOAIroAkO784",
        "colab_type": "code",
        "colab": {}
      },
      "source": [
        "#random Undersampling\n",
        "undersampled_li_index = [random.choice(df_ham.index) for i in range(2500)]\n",
        "undersampled_df = df.drop(df.index[undersampled_li_index])"
      ],
      "execution_count": 0,
      "outputs": []
    },
    {
      "cell_type": "code",
      "metadata": {
        "id": "T6Tz1KJqRGrt",
        "colab_type": "code",
        "colab": {
          "base_uri": "https://localhost:8080/",
          "height": 346
        },
        "outputId": "171faed9-5519-4854-fad4-84f0ebe357bd"
      },
      "source": [
        "count_v1(undersampled_df)\n",
        "sns.countplot(undersampled_df.v1)\n",
        "plt.xlabel('Label')\n",
        "plt.title('Number of ham and spam messages (undersampled)')"
      ],
      "execution_count": 79,
      "outputs": [
        {
          "output_type": "stream",
          "text": [
            "Count of Ham:  2878\n",
            "Count of Ham:  747\n"
          ],
          "name": "stdout"
        },
        {
          "output_type": "execute_result",
          "data": {
            "text/plain": [
              "Text(0.5, 1.0, 'Number of ham and spam messages (undersampled)')"
            ]
          },
          "metadata": {
            "tags": []
          },
          "execution_count": 79
        },
        {
          "output_type": "display_data",
          "data": {
            "image/png": "[encoded data removed]",
            "text/plain": [
              "<Figure size 432x288 with 1 Axes>"
            ]
          },
          "metadata": {
            "tags": [],
            "needs_background": "light"
          }
        }
      ]
    },
    {
      "cell_type": "code",
      "metadata": {
        "id": "F5dnNa04-U8r",
        "colab_type": "code",
        "colab": {}
      },
      "source": [
        "X = df.v2\n",
        "Y = df.v1\n",
        "le = LabelEncoder()\n",
        "Y = le.fit_transform(Y)\n",
        "Y = Y.reshape(-1,1)\n",
        "\n",
        "#oversampled\n",
        "o_X = oversample_df.v2\n",
        "o_Y = oversample_df.v1\n",
        "le = LabelEncoder()\n",
        "o_Y = le.fit_transform(o_Y)\n",
        "o_Y = o_Y.reshape(-1,1)\n",
        "\n",
        "#undersampled\n",
        "u_X = undersampled_df.v2\n",
        "u_Y = undersampled_df.v1\n",
        "le = LabelEncoder()\n",
        "u_Y = le.fit_transform(u_Y)\n",
        "u_Y = u_Y.reshape(-1,1)\n"
      ],
      "execution_count": 0,
      "outputs": []
    },
    {
      "cell_type": "code",
      "metadata": {
        "id": "UYyvr1xF-a9r",
        "colab_type": "code",
        "colab": {}
      },
      "source": [
        "X_train,X_test,Y_train,Y_test = train_test_split(X,Y,test_size=0.15)\n",
        "\n",
        "#oversampled\n",
        "o_X_train,o_X_test,o_Y_train,o_Y_test = train_test_split(o_X,o_Y,test_size=0.15)\n",
        "\n",
        "#undersampled\n",
        "u_X_train,u_X_test,u_Y_train,u_Y_test = train_test_split(u_X,u_Y,test_size=0.15)"
      ],
      "execution_count": 0,
      "outputs": []
    },
    {
      "cell_type": "code",
      "metadata": {
        "id": "nHLASZ-i-gks",
        "colab_type": "code",
        "colab": {}
      },
      "source": [
        "max_words = 1000\n",
        "max_len = 150\n",
        "tok = Tokenizer(num_words=max_words)\n",
        "tok.fit_on_texts(X_train)\n",
        "sequences = tok.texts_to_sequences(X_train)\n",
        "sequences_matrix = sequence.pad_sequences(sequences,maxlen=max_len)"
      ],
      "execution_count": 0,
      "outputs": []
    },
    {
      "cell_type": "code",
      "metadata": {
        "id": "9Ai7KZNNXt8M",
        "colab_type": "code",
        "colab": {}
      },
      "source": [
        "#oversampled\n",
        "o_tok = Tokenizer(num_words=max_words)\n",
        "o_tok.fit_on_texts(o_X_train)\n",
        "o_sequences = o_tok.texts_to_sequences(o_X_train)\n",
        "o_sequences_matrix = sequence.pad_sequences(o_sequences,maxlen=max_len)"
      ],
      "execution_count": 0,
      "outputs": []
    },
    {
      "cell_type": "code",
      "metadata": {
        "id": "LEUENASDXuSD",
        "colab_type": "code",
        "colab": {}
      },
      "source": [
        "#undersampled\n",
        "u_tok = Tokenizer(num_words=max_words)\n",
        "u_tok.fit_on_texts(u_X_train)\n",
        "u_sequences = u_tok.texts_to_sequences(u_X_train)\n",
        "u_sequences_matrix = sequence.pad_sequences(u_sequences,maxlen=max_len)"
      ],
      "execution_count": 0,
      "outputs": []
    },
    {
      "cell_type": "code",
      "metadata": {
        "id": "8eKw48Nv_INI",
        "colab_type": "code",
        "colab": {}
      },
      "source": [
        "def RNN():\n",
        "    inputs = Input(name='inputs',shape=[max_len])\n",
        "    layer = Embedding(max_words,50,input_length=max_len)(inputs)\n",
        "    layer = LSTM(64)(layer)\n",
        "    layer = Dense(256,name='FC1')(layer)\n",
        "    layer = Activation('relu')(layer)\n",
        "    layer = Dropout(0.5)(layer)\n",
        "    layer = Dense(1,name='out_layer')(layer)\n",
        "    layer = Activation('sigmoid')(layer)\n",
        "    model = Model(inputs=inputs,outputs=layer)\n",
        "    return model"
      ],
      "execution_count": 0,
      "outputs": []
    },
    {
      "cell_type": "code",
      "metadata": {
        "id": "KHWNgLxS_Oj1",
        "colab_type": "code",
        "outputId": "850b1e0b-5f5e-4c5a-ffbe-7fc9a65b0413",
        "colab": {
          "base_uri": "https://localhost:8080/",
          "height": 1000
        }
      },
      "source": [
        "model = RNN()\n",
        "model.summary()\n",
        "model.compile(loss='binary_crossentropy',optimizer=RMSprop(),metrics=['accuracy'])\n",
        "\n",
        "#oversampled\n",
        "o_model = RNN()\n",
        "o_model.summary()\n",
        "o_model.compile(loss='binary_crossentropy',optimizer=RMSprop(),metrics=['accuracy'])\n",
        "\n",
        "#underampled\n",
        "u_model = RNN()\n",
        "u_model.summary()\n",
        "u_model.compile(loss='binary_crossentropy',optimizer=RMSprop(),metrics=['accuracy'])"
      ],
      "execution_count": 88,
      "outputs": [
        {
          "output_type": "stream",
          "text": [
            "Model: \"model_3\"\n",
            "_________________________________________________________________\n",
            "Layer (type)                 Output Shape              Param #   \n",
            "=================================================================\n",
            "inputs (InputLayer)          (None, 150)               0         \n",
            "_________________________________________________________________\n",
            "embedding_3 (Embedding)      (None, 150, 50)           50000     \n",
            "_________________________________________________________________\n",
            "lstm_3 (LSTM)                (None, 64)                29440     \n",
            "_________________________________________________________________\n",
            "FC1 (Dense)                  (None, 256)               16640     \n",
            "_________________________________________________________________\n",
            "activation_5 (Activation)    (None, 256)               0         \n",
            "_________________________________________________________________\n",
            "dropout_3 (Dropout)          (None, 256)               0         \n",
            "_________________________________________________________________\n",
            "out_layer (Dense)            (None, 1)                 257       \n",
            "_________________________________________________________________\n",
            "activation_6 (Activation)    (None, 1)                 0         \n",
            "=================================================================\n",
            "Total params: 96,337\n",
            "Trainable params: 96,337\n",
            "Non-trainable params: 0\n",
            "_________________________________________________________________\n",
            "Model: \"model_4\"\n",
            "_________________________________________________________________\n",
            "Layer (type)                 Output Shape              Param #   \n",
            "=================================================================\n",
            "inputs (InputLayer)          (None, 150)               0         \n",
            "_________________________________________________________________\n",
            "embedding_4 (Embedding)      (None, 150, 50)           50000     \n",
            "_________________________________________________________________\n",
            "lstm_4 (LSTM)                (None, 64)                29440     \n",
            "_________________________________________________________________\n",
            "FC1 (Dense)                  (None, 256)               16640     \n",
            "_________________________________________________________________\n",
            "activation_7 (Activation)    (None, 256)               0         \n",
            "_________________________________________________________________\n",
            "dropout_4 (Dropout)          (None, 256)               0         \n",
            "_________________________________________________________________\n",
            "out_layer (Dense)            (None, 1)                 257       \n",
            "_________________________________________________________________\n",
            "activation_8 (Activation)    (None, 1)                 0         \n",
            "=================================================================\n",
            "Total params: 96,337\n",
            "Trainable params: 96,337\n",
            "Non-trainable params: 0\n",
            "_________________________________________________________________\n",
            "Model: \"model_5\"\n",
            "_________________________________________________________________\n",
            "Layer (type)                 Output Shape              Param #   \n",
            "=================================================================\n",
            "inputs (InputLayer)          (None, 150)               0         \n",
            "_________________________________________________________________\n",
            "embedding_5 (Embedding)      (None, 150, 50)           50000     \n",
            "_________________________________________________________________\n",
            "lstm_5 (LSTM)                (None, 64)                29440     \n",
            "_________________________________________________________________\n",
            "FC1 (Dense)                  (None, 256)               16640     \n",
            "_________________________________________________________________\n",
            "activation_9 (Activation)    (None, 256)               0         \n",
            "_________________________________________________________________\n",
            "dropout_5 (Dropout)          (None, 256)               0         \n",
            "_________________________________________________________________\n",
            "out_layer (Dense)            (None, 1)                 257       \n",
            "_________________________________________________________________\n",
            "activation_10 (Activation)   (None, 1)                 0         \n",
            "=================================================================\n",
            "Total params: 96,337\n",
            "Trainable params: 96,337\n",
            "Non-trainable params: 0\n",
            "_________________________________________________________________\n"
          ],
          "name": "stdout"
        }
      ]
    },
    {
      "cell_type": "code",
      "metadata": {
        "id": "B8jWuqsF_VW7",
        "colab_type": "code",
        "outputId": "fd54af23-bf21-4686-883e-4112d889a962",
        "colab": {
          "base_uri": "https://localhost:8080/",
          "height": 615
        }
      },
      "source": [
        "model.fit(sequences_matrix,Y_train,batch_size=128,epochs=10,\n",
        "          validation_split=0.2,callbacks=[EarlyStopping(monitor='val_loss',min_delta=0.0001)])\n",
        "\n",
        "#oversampled\n",
        "o_model.fit(o_sequences_matrix,o_Y_train,batch_size=128,epochs=10,\n",
        "          validation_split=0.2,callbacks=[EarlyStopping(monitor='val_loss',min_delta=0.0001)])\n",
        "\n",
        "#undersampled\n",
        "u_model.fit(u_sequences_matrix,u_Y_train,batch_size=128,epochs=10,\n",
        "          validation_split=0.2,callbacks=[EarlyStopping(monitor='val_loss',min_delta=0.0001)])"
      ],
      "execution_count": 89,
      "outputs": [
        {
          "output_type": "stream",
          "text": [
            "/usr/local/lib/python3.6/dist-packages/tensorflow/python/framework/indexed_slices.py:434: UserWarning: Converting sparse IndexedSlices to a dense Tensor of unknown shape. This may consume a large amount of memory.\n",
            "  \"Converting sparse IndexedSlices to a dense Tensor of unknown shape. \"\n"
          ],
          "name": "stderr"
        },
        {
          "output_type": "stream",
          "text": [
            "Train on 3788 samples, validate on 948 samples\n",
            "Epoch 1/10\n",
            "3788/3788 [==============================] - 7s 2ms/step - loss: 0.3248 - accuracy: 0.8809 - val_loss: 0.1359 - val_accuracy: 0.9641\n",
            "Epoch 2/10\n",
            "3788/3788 [==============================] - 7s 2ms/step - loss: 0.0817 - accuracy: 0.9815 - val_loss: 0.0566 - val_accuracy: 0.9852\n",
            "Epoch 3/10\n",
            "3788/3788 [==============================] - 7s 2ms/step - loss: 0.0356 - accuracy: 0.9900 - val_loss: 0.0554 - val_accuracy: 0.9852\n",
            "Epoch 4/10\n",
            "3788/3788 [==============================] - 7s 2ms/step - loss: 0.0302 - accuracy: 0.9902 - val_loss: 0.0667 - val_accuracy: 0.9831\n",
            "Train on 4113 samples, validate on 1029 samples\n",
            "Epoch 1/10\n",
            "4113/4113 [==============================] - 8s 2ms/step - loss: 0.3448 - accuracy: 0.8631 - val_loss: 0.1996 - val_accuracy: 0.9388\n",
            "Epoch 2/10\n",
            "4113/4113 [==============================] - 7s 2ms/step - loss: 0.0785 - accuracy: 0.9788 - val_loss: 0.0995 - val_accuracy: 0.9660\n",
            "Epoch 3/10\n",
            "4113/4113 [==============================] - 7s 2ms/step - loss: 0.0467 - accuracy: 0.9869 - val_loss: 0.0794 - val_accuracy: 0.9776\n",
            "Epoch 4/10\n",
            "4113/4113 [==============================] - 7s 2ms/step - loss: 0.0333 - accuracy: 0.9905 - val_loss: 0.0426 - val_accuracy: 0.9883\n",
            "Epoch 5/10\n",
            "4113/4113 [==============================] - 7s 2ms/step - loss: 0.0238 - accuracy: 0.9937 - val_loss: 0.0401 - val_accuracy: 0.9883\n",
            "Epoch 6/10\n",
            "4113/4113 [==============================] - 8s 2ms/step - loss: 0.0181 - accuracy: 0.9942 - val_loss: 0.0600 - val_accuracy: 0.9845\n",
            "Train on 2464 samples, validate on 617 samples\n",
            "Epoch 1/10\n",
            "2464/2464 [==============================] - 5s 2ms/step - loss: 0.4167 - accuracy: 0.8145 - val_loss: 0.2144 - val_accuracy: 0.9514\n",
            "Epoch 2/10\n",
            "2464/2464 [==============================] - 4s 2ms/step - loss: 0.1426 - accuracy: 0.9675 - val_loss: 0.1306 - val_accuracy: 0.9643\n",
            "Epoch 3/10\n",
            "2464/2464 [==============================] - 4s 2ms/step - loss: 0.0782 - accuracy: 0.9781 - val_loss: 0.0779 - val_accuracy: 0.9757\n",
            "Epoch 4/10\n",
            "2464/2464 [==============================] - 4s 2ms/step - loss: 0.0434 - accuracy: 0.9866 - val_loss: 0.0825 - val_accuracy: 0.9773\n"
          ],
          "name": "stdout"
        },
        {
          "output_type": "execute_result",
          "data": {
            "text/plain": [
              "<keras.callbacks.callbacks.History at 0x7f664ced9710>"
            ]
          },
          "metadata": {
            "tags": []
          },
          "execution_count": 89
        }
      ]
    },
    {
      "cell_type": "code",
      "metadata": {
        "id": "3kUCyZDi_8cj",
        "colab_type": "code",
        "colab": {}
      },
      "source": [
        "test_sequences = tok.texts_to_sequences(X_test)\n",
        "test_sequences_matrix = sequence.pad_sequences(test_sequences,maxlen=max_len)\n",
        "\n",
        "#oversampled\n",
        "o_test_sequences = o_tok.texts_to_sequences(o_X_test)\n",
        "o_test_sequences_matrix = sequence.pad_sequences(o_test_sequences,maxlen=max_len)\n",
        "\n",
        "#undersampled\n",
        "u_test_sequences = u_tok.texts_to_sequences(u_X_test)\n",
        "u_test_sequences_matrix = sequence.pad_sequences(u_test_sequences,maxlen=max_len)"
      ],
      "execution_count": 0,
      "outputs": []
    },
    {
      "cell_type": "code",
      "metadata": {
        "id": "ZDAQWzpFADe6",
        "colab_type": "code",
        "outputId": "e4f6b6d9-781a-441e-d93a-60d3bb6aca5d",
        "colab": {
          "base_uri": "https://localhost:8080/",
          "height": 68
        }
      },
      "source": [
        "accr = model.evaluate(test_sequences_matrix,Y_test)\n",
        "\n",
        "#overampled\n",
        "o_accr = o_model.evaluate(o_test_sequences_matrix,o_Y_test)\n",
        "\n",
        "#underampled\n",
        "u_accr = u_model.evaluate(u_test_sequences_matrix,u_Y_test)"
      ],
      "execution_count": 91,
      "outputs": [
        {
          "output_type": "stream",
          "text": [
            "836/836 [==============================] - 0s 578us/step\n",
            "908/908 [==============================] - 1s 671us/step\n",
            "544/544 [==============================] - 0s 585us/step\n"
          ],
          "name": "stdout"
        }
      ]
    },
    {
      "cell_type": "code",
      "metadata": {
        "id": "eyE7jk2YAEbl",
        "colab_type": "code",
        "outputId": "a79688a0-867c-45ee-b7c0-eff2474b5883",
        "colab": {
          "base_uri": "https://localhost:8080/",
          "height": 238
        }
      },
      "source": [
        "print('Test set\\n  Loss: {:0.3f}\\n  Accuracy: {:0.3f}'.format(accr[0],accr[1]))\n",
        "\n",
        "print('\\nOverampled')\n",
        "print('Test set\\n  Loss: {:0.3f}\\n  Accuracy: {:0.3f}'.format(o_accr[0],o_accr[1]))\n",
        "\n",
        "print('\\nUndersampled')\n",
        "print('Test set\\n  Loss: {:0.3f}\\n  Accuracy: {:0.3f}'.format(u_accr[0],u_accr[1]))"
      ],
      "execution_count": 93,
      "outputs": [
        {
          "output_type": "stream",
          "text": [
            "Test set\n",
            "  Loss: 0.120\n",
            "  Accuracy: 0.974\n",
            "\n",
            "Overampled\n",
            "Test set\n",
            "  Loss: 0.068\n",
            "  Accuracy: 0.979\n",
            "\n",
            "Undersampled\n",
            "Test set\n",
            "  Loss: 0.024\n",
            "  Accuracy: 0.994\n"
          ],
          "name": "stdout"
        }
      ]
    }
  ]
}